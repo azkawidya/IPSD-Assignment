{
 "cells": [
  {
   "cell_type": "markdown",
   "metadata": {},
   "source": [
    "### 1. Memecahkan Masalah Unik dengan Loop dan If-Else"
   ]
  },
  {
   "cell_type": "markdown",
   "metadata": {},
   "source": [
    "    Buatlah program yang dapat menghasilkan pola berbentuk angka seperti di bawah ini, dengan syarat angka yang ditampilkan adalah hasil dari penjumlahan bilangan prima sebelumnya:\n",
    "\n",
    "    1\n",
    "    2 3\n",
    "    5 7 11\n",
    "    13 17 19 23\n",
    "\n",
    "    Jumlah angka pada setiap baris bertambah 1, dan bilangan yang ditampilkan adalah bilangan prima."
   ]
  },
  {
   "cell_type": "code",
   "execution_count": 6,
   "metadata": {},
   "outputs": [
    {
     "name": "stdout",
     "output_type": "stream",
     "text": [
      "2\n",
      "3 5\n",
      "7 11 13\n",
      "17 19 23 29\n"
     ]
    }
   ],
   "source": [
    "def is_prime(n):\n",
    "    \"\"\"Cek apakah bilangan n adalah prima.\"\"\"\n",
    "    if n <= 1:\n",
    "        return False\n",
    "    for i in range(2, int(n**0.5) + 1):\n",
    "        if n % i == 0:\n",
    "            return False\n",
    "    return True\n",
    "\n",
    "def generate_primes(count):\n",
    "    \"\"\"Menghasilkan daftar bilangan prima sebanyak count.\"\"\"\n",
    "    primes = []\n",
    "    num = 2  \n",
    "    while len(primes) < count:\n",
    "        if is_prime(num):\n",
    "            primes.append(num)\n",
    "        num += 1\n",
    "    return primes\n",
    "\n",
    "def print_prime_pattern(rows):\n",
    "    \"\"\"Mencetak pola bilangan prima sesuai jumlah baris.\"\"\"\n",
    "    total_primes = sum(range(1, rows + 1))  \n",
    "    primes = generate_primes(total_primes)\n",
    "    \n",
    "    index = 0\n",
    "    for i in range(1, rows + 1):\n",
    "        print(\" \".join(str(primes[index + j]) for j in range(i)))\n",
    "        index += i\n",
    "\n",
    "jumlah_baris = 4\n",
    "print_prime_pattern(jumlah_baris)"
   ]
  },
  {
   "cell_type": "markdown",
   "metadata": {},
   "source": [
    "### 2. Membuat Fungsi dengan Syarat Spesifik"
   ]
  },
  {
   "cell_type": "markdown",
   "metadata": {},
   "source": [
    "    Buatlah sebuah fungsi yang menerima dua input berupa list angka. Fungsi ini harus mengembalikan sebuah list baru yang berisi elemen dari dua list  input yang memiliki indeks ganjil. List baru tersebut juga harus diurutkan secara menurun berdasarkan nilai elemen.\n"
   ]
  },
  {
   "cell_type": "code",
   "execution_count": 9,
   "metadata": {},
   "outputs": [
    {
     "name": "stdout",
     "output_type": "stream",
     "text": [
      "[66, 60, 46, 38, 23, 18]\n"
     ]
    }
   ],
   "source": [
    "def combine_and_sort_odd_indices(list1, list2):\n",
    "    odd_elements = [list1[i] for i in range(1, len(list1), 2)] + [list2[i] for i in range(1, len(list2), 2)]\n",
    "    \n",
    "    odd_elements.sort(reverse=True)\n",
    "    \n",
    "    return odd_elements\n",
    "\n",
    "list1 = [10, 23, 36, 38, 55, 60]\n",
    "list2 = [16, 18, 25, 46, 58, 66]\n",
    "result = combine_and_sort_odd_indices(list1, list2)\n",
    "print(result)"
   ]
  },
  {
   "cell_type": "markdown",
   "metadata": {},
   "source": [
    "### 3. Exception Handling dalam Konteks Nyata"
   ]
  },
  {
   "cell_type": "markdown",
   "metadata": {},
   "source": [
    "    Buat sebuah program untuk mensimulasikan transaksi ATM. Program harus:\n",
    "        - Meminta pengguna memasukkan PIN (dibatasi 3 kali percobaan).\n",
    "        - Setelah PIN benar, meminta jumlah penarikan.\n",
    "        - Jika saldo kurang dari jumlah yang ditarik, munculkan pesan kesalahan.\n",
    "        - Jika penarikan berhasil, tampilkan saldo akhir."
   ]
  },
  {
   "cell_type": "code",
   "execution_count": 12,
   "metadata": {},
   "outputs": [
    {
     "name": "stdout",
     "output_type": "stream",
     "text": [
      "PIN salah. Silakan coba lagi.\n",
      "PIN salah. Silakan coba lagi.\n",
      "PIN benar.\n",
      "Penarikan berhasil. Saldo akhir Anda: Rp16000000\n"
     ]
    }
   ],
   "source": [
    "import random\n",
    "\n",
    "pin_atm = \"1031\"\n",
    "saldo = 18000000\n",
    "batas_percobaan = 3\n",
    "max_penarikan = 6000000\n",
    "\n",
    "def simulasi_atm():\n",
    "    global saldo\n",
    "\n",
    "    for i in range(batas_percobaan):\n",
    "        pin = input(\"Masukkan PIN : \")\n",
    "        if pin == pin_atm:\n",
    "            print(\"PIN benar.\")\n",
    "            break\n",
    "        else:\n",
    "            print(\"PIN salah. Silakan coba lagi.\")\n",
    "    else:\n",
    "        print(\"Anda telah 3 kali salah memasukkan PIN. Akun Anda diblokir.\")\n",
    "        return\n",
    "    \n",
    "    try:\n",
    "        jumlah_tarik = int(input(\"Masukkan jumlah penarikan: \"))\n",
    "        if jumlah_tarik <= 0:\n",
    "            print(\"Jumlah penarikan harus lebih dari 0.\")\n",
    "        elif jumlah_tarik > max_penarikan:\n",
    "            print(f\"Jumlah penarikan melebihi batas maksimal ({max_penarikan}).\")\n",
    "        elif jumlah_tarik > saldo:\n",
    "            print(f\"Saldo tidak mencukupi. Saldo Anda: Rp{saldo}\")\n",
    "        else:\n",
    "            saldo -= jumlah_tarik\n",
    "            print(f\"Penarikan berhasil. Saldo akhir Anda: Rp{saldo}\")\n",
    "    except ValueError:\n",
    "        print(\"Input tidak valid. Harus berupa angka.\")\n",
    "\n",
    "simulasi_atm()"
   ]
  },
  {
   "cell_type": "markdown",
   "metadata": {},
   "source": [
    "### 4. Studi Kasus Pengelolaan Data"
   ]
  },
  {
   "cell_type": "markdown",
   "metadata": {},
   "source": [
    "    Anda diberikan file CSV berisi data nilai ujian mahasiswa. Tugas Anda adalah menulis sebuah program yang:\n",
    "        - Membaca file CSV dan menyimpan datanya ke dalam dictionary.\n",
    "        - Menghitung rata-rata nilai tiap mahasiswa.\n",
    "        - Menampilkan mahasiswa dengan nilai tertinggi dan terendah."
   ]
  },
  {
   "cell_type": "code",
   "execution_count": 34,
   "metadata": {},
   "outputs": [
    {
     "name": "stdout",
     "output_type": "stream",
     "text": [
      "   Nama Siswa  Nilai\n",
      "0     Siswa_1     59\n",
      "1     Siswa_2     79\n",
      "2     Siswa_3     61\n",
      "3     Siswa_4     74\n",
      "4     Siswa_5     50\n",
      "..        ...    ...\n",
      "95   Siswa_96     59\n",
      "96   Siswa_97     57\n",
      "97   Siswa_98     70\n",
      "98   Siswa_99     66\n",
      "99  Siswa_100     78\n",
      "\n",
      "[100 rows x 2 columns]\n"
     ]
    }
   ],
   "source": [
    "import pandas as pd\n",
    "\n",
    "df =  pd.read_csv(r'C:/Users/azkaw/OneDrive/Documents/documents/code/Infrastruktur dan Platform untuk Sains Data/siswa_nilai.csv')\n",
    "\n",
    "print(df)"
   ]
  },
  {
   "cell_type": "code",
   "execution_count": 80,
   "metadata": {},
   "outputs": [
    {
     "name": "stdout",
     "output_type": "stream",
     "text": [
      "mean score   : 72.0 \n",
      "highest score: 100 \n",
      "lowest score : 50\n"
     ]
    }
   ],
   "source": [
    "\n",
    "nilai = df['Nilai'].mean()\n",
    "highest = df['Nilai'].max()\n",
    "lowest = df['Nilai'].min()\n",
    "\n",
    "print(f\"mean score   : {nilai}\", f\"\\nhighest score: {highest}\", f\"\\nlowest score : {lowest}\")\n"
   ]
  },
  {
   "cell_type": "markdown",
   "metadata": {},
   "source": [
    "### 5. Kombinasi Logika dan Kreativitas"
   ]
  },
  {
   "cell_type": "markdown",
   "metadata": {},
   "source": [
    "    Buatlah permainan sederhana menggunakan Python, di mana komputer akan memilih sebuah angka secara acak antara 1 hingga 100, dan pengguna harus menebak angka tersebut. Setiap tebakan yang salah akan memberikan petunjuk apakah angka yang ditebak lebih besar atau lebih kecil dari angka sebenarnya. Batasi jumlah percobaan menjadi 5 kali. Setelah permainan selesai, tampilkan apakah pemain menang atau kalah."
   ]
  },
  {
   "cell_type": "code",
   "execution_count": 57,
   "metadata": {},
   "outputs": [
    {
     "name": "stdout",
     "output_type": "stream",
     "text": [
      "Selamat datang di permainan tebak angka!\n",
      "Tebak angka antara 1 sampai 100.\n",
      "Angka Anda terlalu besar.\n",
      "Angka Anda terlalu kecil.\n",
      "Angka Anda terlalu besar.\n",
      "Angka Anda terlalu besar.\n",
      "Angka Anda terlalu besar.\n",
      "Anda kehabisan percobaan. Angka rahasianya adalah 33.\n"
     ]
    }
   ],
   "source": [
    "import random\n",
    "\n",
    "def tebak_angka():\n",
    "    \"\"\"Permainan tebak angka antara 1 hingga 100\"\"\"\n",
    "\n",
    "    angka_rahasia = random.randint(1, 100)\n",
    "    percobaan = 0\n",
    "\n",
    "    print(\"Selamat datang di permainan tebak angka!\")\n",
    "    print(\"Tebak angka antara 1 sampai 100.\")\n",
    "\n",
    "    while percobaan < 5:\n",
    "        try:\n",
    "            tebakan = int(input(\"Masukkan tebakan Anda: \"))\n",
    "            percobaan += 1\n",
    "\n",
    "            if tebakan == angka_rahasia:\n",
    "                print(\"Selamat, Anda berhasil menebak angka!\")\n",
    "                return\n",
    "\n",
    "            elif tebakan < angka_rahasia:\n",
    "                print(\"Angka Anda terlalu kecil.\")\n",
    "\n",
    "            else:\n",
    "                print(\"Angka Anda terlalu besar.\")\n",
    "\n",
    "        except ValueError:\n",
    "            print(\"Masukkan harus berupa angka!\")\n",
    "\n",
    "    print(f\"Anda kehabisan percobaan. Angka rahasianya adalah {angka_rahasia}.\")\n",
    "\n",
    "if __name__ == \"__main__\":\n",
    "    tebak_angka()"
   ]
  },
  {
   "cell_type": "markdown",
   "metadata": {},
   "source": [
    "### 6. Rekursi yang Tidak Biasa"
   ]
  },
  {
   "cell_type": "markdown",
   "metadata": {},
   "source": [
    "    Buat fungsi rekursif yang menerima input bilangan bulat `n` dan menghasilkan urutan bilangan seperti berikut ini:\n",
    "\n",
    "        Input: n = 4\n",
    "        Output: 1, 1, 2, 6, 24\n",
    "\n",
    "    Fungsi ini harus menggunakan konsep rekursi untuk menghitung faktorial setiap angka hingga `n`.\n"
   ]
  },
  {
   "cell_type": "code",
   "execution_count": 58,
   "metadata": {},
   "outputs": [
    {
     "name": "stdout",
     "output_type": "stream",
     "text": [
      "[1, 1, 2, 6, 24]\n"
     ]
    }
   ],
   "source": [
    "def faktorial(n):\n",
    "    if n == 0 or n == 1:\n",
    "        return 1\n",
    "    else:\n",
    "        return n * faktorial(n - 1)\n",
    "\n",
    "def urutan_faktorial(n):\n",
    "    if n < 0:\n",
    "        return []  #Mengembalikan list kosong untuk input negatif\n",
    "    elif n == 0:\n",
    "        return [1]  #Faktorial dari 0 adalah 1\n",
    "    else:\n",
    "        return urutan_faktorial(n - 1) + [faktorial(n)]\n",
    "\n",
    "n = 4\n",
    "print(urutan_faktorial(n))"
   ]
  },
  {
   "cell_type": "markdown",
   "metadata": {},
   "source": [
    "### 7. Pemrograman dengan Algoritma Greedy"
   ]
  },
  {
   "cell_type": "markdown",
   "metadata": {},
   "source": [
    "    Buatlah program untuk memecahkan masalah \"minimum coin change\". Diberikan jumlah uang dan daftar nilai koin yang tersedia (misalnya, 1, 5, 10, 25), tentukan kombinasi minimum koin yang diperlukan untuk mencapai jumlah uang tersebut. Namun, program Anda harus bisa menangani koin-koin yang nilai dan jumlahnya ditentukan pengguna."
   ]
  },
  {
   "cell_type": "code",
   "execution_count": 62,
   "metadata": {},
   "outputs": [
    {
     "name": "stdout",
     "output_type": "stream",
     "text": [
      "Jumlah koin minimum yang diperlukan: 3\n",
      "Kombinasi koin: [1, 5, 10]\n"
     ]
    }
   ],
   "source": [
    "def minimum_coin_change(coins, amount):\n",
    "    dp = [float('inf')] * (amount + 1)\n",
    "    dp[0] = 0  \n",
    "\n",
    "    coin_combination = [[] for _ in range(amount + 1)]\n",
    "\n",
    "    for coin in coins:\n",
    "        for x in range(coin, amount + 1):\n",
    "            if dp[x - coin] + 1 < dp[x]:\n",
    "                dp[x] = dp[x - coin] + 1\n",
    "                coin_combination[x] = coin_combination[x - coin] + [coin]\n",
    "\n",
    "    if dp[amount] == float('inf'):\n",
    "        return None  \n",
    "    \n",
    "    return dp[amount], coin_combination[amount]\n",
    "\n",
    "if __name__ == \"__main__\":\n",
    "    koin = list(map(int, input(\"Masukkan nilai koin (pisahkan dengan spasi): \").split()))\n",
    "    jumlah = int(input(\"Masukkan jumlah uang: \"))\n",
    "    \n",
    "    hasil = minimum_coin_change(koin, jumlah)\n",
    "    \n",
    "    if hasil:\n",
    "        jumlah_koin, kombinasi_koin = hasil\n",
    "        print(f\"Jumlah koin minimum yang diperlukan: {jumlah_koin}\")\n",
    "        print(f\"Kombinasi koin: {kombinasi_koin}\")\n",
    "    else:\n",
    "        print(\"Tidak ada kombinasi koin yang dapat mencapai jumlah tersebut.\")\n",
    "        "
   ]
  },
  {
   "cell_type": "markdown",
   "metadata": {},
   "source": [
    "### 8. Kombinasi String dan Manipulasi List"
   ]
  },
  {
   "cell_type": "markdown",
   "metadata": {},
   "source": [
    "    Buat sebuah program yang menerima string dari pengguna dan mengonversi string tersebut menjadi sebuah list berisi kata-kata terbalik. Misalnya:\n",
    "    ```\n",
    "    Input: \"Saya suka Python\"\n",
    "    Output: [\"ayaS\", \"akus\", \"nohtyP\"]\n",
    "    ```\n"
   ]
  },
  {
   "cell_type": "code",
   "execution_count": 69,
   "metadata": {},
   "outputs": [
    {
     "name": "stdout",
     "output_type": "stream",
     "text": [
      "Input    : Everyone Adores You By Matt Maltese\n",
      "Output   : ['enoyrevE', 'serodA', 'uoY', 'yB', 'ttaM', 'esetlaM']\n"
     ]
    }
   ],
   "source": [
    "def reverse_words(input_kalimat):\n",
    "    words = input_kalimat.split()\n",
    "    reversed_words = [word[::-1] for word in words]\n",
    "    return reversed_words\n",
    "\n",
    "input_kalimat = input(\"Input kalimat: \")\n",
    "\n",
    "output = reverse_words(input_kalimat)\n",
    "print(\"Input    :\", input_kalimat)\n",
    "print(\"Output   :\", output)"
   ]
  },
  {
   "cell_type": "markdown",
   "metadata": {},
   "source": [
    "### 9. Konsep Class dan Object-Oriented Programming"
   ]
  },
  {
   "cell_type": "markdown",
   "metadata": {},
   "source": [
    "    Buat class bernama `Buku` yang memiliki atribut `judul`, `penulis`, dan `tahun_terbit`. Buat method dalam class untuk menampilkan informasi buku, serta method untuk menghitung usia buku berdasarkan tahun saat ini. Buatlah 3 objek dari class `Buku` dan tampilkan informasi serta usia masing-masing buku."
   ]
  },
  {
   "cell_type": "code",
   "execution_count": 86,
   "metadata": {},
   "outputs": [
    {
     "name": "stdout",
     "output_type": "stream",
     "text": [
      "Judul       : Tuesdays With Morrie\n",
      "Penulis     : Mitch Albom\n",
      "Tahun Terbit: 1997\n",
      "Usia buku   : 27 tahun\n",
      "-----------------------------------\n",
      "Judul       : Animal Farm\n",
      "Penulis     : George Orwell\n",
      "Tahun Terbit: 1945\n",
      "Usia buku   : 79 tahun\n",
      "-----------------------------------\n",
      "Judul       : Norwegian Wood\n",
      "Penulis     : Haruki Murakami\n",
      "Tahun Terbit: 1987\n",
      "Usia buku   : 37 tahun\n"
     ]
    }
   ],
   "source": [
    "class Buku:\n",
    "  def __init__(self, judul, penulis, tahun_terbit):\n",
    "    self.judul = judul\n",
    "    self.penulis = penulis\n",
    "    self.tahun_terbit = tahun_terbit\n",
    "\n",
    "  def tampilkan_info(self):\n",
    "    print(f\"Judul       : {self.judul}\")\n",
    "    print(f\"Penulis     : {self.penulis}\")\n",
    "    print(f\"Tahun Terbit: {self.tahun_terbit}\")\n",
    "\n",
    "  def hitung_usia(self):\n",
    "    import datetime\n",
    "    tahun_sekarang = datetime.datetime.now().year\n",
    "    usia = tahun_sekarang - self.tahun_terbit\n",
    "    print(f\"Usia buku   : {usia} tahun\")\n",
    "\n",
    "buku1 = Buku(\"Tuesdays With Morrie\", \"Mitch Albom\", 1997)\n",
    "buku2 = Buku(\"Animal Farm\", \"George Orwell\", 1945)\n",
    "buku3 = Buku(\"Norwegian Wood\", \"Haruki Murakami\", 1987)\n",
    "\n",
    "buku1.tampilkan_info()\n",
    "buku1.hitung_usia()\n",
    "print(\"-\" * 35)\n",
    "buku2.tampilkan_info()\n",
    "buku2.hitung_usia()\n",
    "print(\"-\" * 35)\n",
    "buku3.tampilkan_info()\n",
    "buku3.hitung_usia()"
   ]
  },
  {
   "cell_type": "markdown",
   "metadata": {},
   "source": [
    "### 10. Algoritma dengan Persyaratan Logika Khusus"
   ]
  },
  {
   "cell_type": "markdown",
   "metadata": {},
   "source": [
    "    Buatlah program yang mengimplementasikan algoritma pencarian biner, namun dengan modifikasi: algoritma harus bisa mencari nilai di list yang hanya berisi angka genap, dan jika nilai yang dicari adalah angka ganjil, program harus menampilkan pesan bahwa nilai tersebut tidak bisa ditemukan."
   ]
  },
  {
   "cell_type": "code",
   "execution_count": 87,
   "metadata": {},
   "outputs": [
    {
     "name": "stdout",
     "output_type": "stream",
     "text": [
      "Angka 16 ditemukan pada indeks 8.\n"
     ]
    }
   ],
   "source": [
    "def binary_search(even_numbers, target):\n",
    "    \"\"\"Melakukan pencarian biner pada list angka genap.\"\"\"\n",
    "    left, right = 0, len(even_numbers) - 1\n",
    "    \n",
    "    while left <= right:\n",
    "        mid = (left + right) // 2\n",
    "        if even_numbers[mid] == target:\n",
    "            return mid\n",
    "        elif even_numbers[mid] < target:\n",
    "            left = mid + 1\n",
    "        else:\n",
    "            right = mid - 1\n",
    "            \n",
    "    return -1  \n",
    "\n",
    "if __name__ == \"__main__\":\n",
    "    even_numbers = [0, 2, 4, 6, 8, 10, 12, 14, 16, 18, 20]\n",
    "\n",
    "    target = int(input(\"Masukkan angka yang ingin dicari: \"))\n",
    "\n",
    "    if target % 2 != 0:\n",
    "        print(\"Nilai tersebut tidak bisa ditemukan karena angka ganjil.\")\n",
    "    else:\n",
    "        result = binary_search(even_numbers, target)\n",
    "        if result != -1:\n",
    "            print(f\"Angka {target} ditemukan pada indeks {result}.\")\n",
    "        else:\n",
    "            print(f\"Angka {target} tidak ditemukan dalam list.\")"
   ]
  }
 ],
 "metadata": {
  "kernelspec": {
   "display_name": "Python 3",
   "language": "python",
   "name": "python3"
  },
  "language_info": {
   "codemirror_mode": {
    "name": "ipython",
    "version": 3
   },
   "file_extension": ".py",
   "mimetype": "text/x-python",
   "name": "python",
   "nbconvert_exporter": "python",
   "pygments_lexer": "ipython3",
   "version": "3.12.6"
  }
 },
 "nbformat": 4,
 "nbformat_minor": 2
}
